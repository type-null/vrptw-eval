{
 "cells": [
  {
   "cell_type": "code",
   "execution_count": 244,
   "metadata": {},
   "outputs": [
    {
     "data": {
      "text/html": [
       "<div>\n",
       "<style scoped>\n",
       "    .dataframe tbody tr th:only-of-type {\n",
       "        vertical-align: middle;\n",
       "    }\n",
       "\n",
       "    .dataframe tbody tr th {\n",
       "        vertical-align: top;\n",
       "    }\n",
       "\n",
       "    .dataframe thead th {\n",
       "        text-align: right;\n",
       "    }\n",
       "</style>\n",
       "<table border=\"1\" class=\"dataframe\">\n",
       "  <thead>\n",
       "    <tr style=\"text-align: right;\">\n",
       "      <th></th>\n",
       "      <th>Customer ID</th>\n",
       "      <th>X</th>\n",
       "      <th>Y</th>\n",
       "      <th>Demand (pounds)</th>\n",
       "      <th>Service-time</th>\n",
       "      <th>Time-window(start; h:m)</th>\n",
       "      <th>Time-window(end; h:m)</th>\n",
       "      <th>Can this demand be split</th>\n",
       "    </tr>\n",
       "  </thead>\n",
       "  <tbody>\n",
       "    <tr>\n",
       "      <th>0</th>\n",
       "      <td>1</td>\n",
       "      <td>28.94</td>\n",
       "      <td>-48.28</td>\n",
       "      <td>2500</td>\n",
       "      <td>0:05</td>\n",
       "      <td>2:07</td>\n",
       "      <td>2:52</td>\n",
       "      <td>Y</td>\n",
       "    </tr>\n",
       "    <tr>\n",
       "      <th>1</th>\n",
       "      <td>2</td>\n",
       "      <td>-28.67</td>\n",
       "      <td>85.14</td>\n",
       "      <td>3250</td>\n",
       "      <td>0:09</td>\n",
       "      <td>13:54</td>\n",
       "      <td>14:13</td>\n",
       "      <td>N</td>\n",
       "    </tr>\n",
       "    <tr>\n",
       "      <th>2</th>\n",
       "      <td>3</td>\n",
       "      <td>-46.25</td>\n",
       "      <td>41.73</td>\n",
       "      <td>5500</td>\n",
       "      <td>0:02</td>\n",
       "      <td>19:28</td>\n",
       "      <td>19:47</td>\n",
       "      <td>N</td>\n",
       "    </tr>\n",
       "    <tr>\n",
       "      <th>3</th>\n",
       "      <td>4</td>\n",
       "      <td>-74.61</td>\n",
       "      <td>91.51</td>\n",
       "      <td>15500</td>\n",
       "      <td>0:10</td>\n",
       "      <td>21:29</td>\n",
       "      <td>21:52</td>\n",
       "      <td>Y</td>\n",
       "    </tr>\n",
       "    <tr>\n",
       "      <th>4</th>\n",
       "      <td>5</td>\n",
       "      <td>-70.26</td>\n",
       "      <td>-76.22</td>\n",
       "      <td>1500</td>\n",
       "      <td>0:03</td>\n",
       "      <td>3:41</td>\n",
       "      <td>4:13</td>\n",
       "      <td>N</td>\n",
       "    </tr>\n",
       "  </tbody>\n",
       "</table>\n",
       "</div>"
      ],
      "text/plain": [
       "   Customer ID      X      Y  Demand (pounds) Service-time  \\\n",
       "0            1  28.94 -48.28             2500         0:05   \n",
       "1            2 -28.67  85.14             3250         0:09   \n",
       "2            3 -46.25  41.73             5500         0:02   \n",
       "3            4 -74.61  91.51            15500         0:10   \n",
       "4            5 -70.26 -76.22             1500         0:03   \n",
       "\n",
       "  Time-window(start; h:m) Time-window(end; h:m) Can this demand be split  \n",
       "0                    2:07                  2:52                        Y  \n",
       "1                   13:54                 14:13                        N  \n",
       "2                   19:28                 19:47                        N  \n",
       "3                   21:29                 21:52                        Y  \n",
       "4                    3:41                  4:13                        N  "
      ]
     },
     "execution_count": 244,
     "metadata": {},
     "output_type": "execute_result"
    }
   ],
   "source": [
    "import math\n",
    "import pandas as pd\n",
    "from datetime import datetime, timedelta\n",
    "\n",
    "df = pd.read_csv(\"Data.csv\")\n",
    "df.head()"
   ]
  },
  {
   "cell_type": "code",
   "execution_count": 140,
   "metadata": {},
   "outputs": [
    {
     "name": "stdout",
     "output_type": "stream",
     "text": [
      "Customer ID                     1\n",
      "X                           28.94\n",
      "Y                          -48.28\n",
      "Demand (pounds)              2500\n",
      "Service-time                 0:05\n",
      "Time-window(start; h:m)      2:07\n",
      "Time-window(end; h:m)        2:52\n",
      "Can this demand be split        Y\n",
      "Name: 0, dtype: object\n"
     ]
    }
   ],
   "source": [
    "for index, row in df.iterrows():\n",
    "    print(row)\n",
    "    break\n"
   ]
  },
  {
   "cell_type": "code",
   "execution_count": 234,
   "metadata": {},
   "outputs": [
    {
     "data": {
      "text/html": [
       "<div>\n",
       "<style scoped>\n",
       "    .dataframe tbody tr th:only-of-type {\n",
       "        vertical-align: middle;\n",
       "    }\n",
       "\n",
       "    .dataframe tbody tr th {\n",
       "        vertical-align: top;\n",
       "    }\n",
       "\n",
       "    .dataframe thead th {\n",
       "        text-align: right;\n",
       "    }\n",
       "</style>\n",
       "<table border=\"1\" class=\"dataframe\">\n",
       "  <thead>\n",
       "    <tr style=\"text-align: right;\">\n",
       "      <th></th>\n",
       "      <th>truck</th>\n",
       "      <th>stop</th>\n",
       "      <th>offload</th>\n",
       "      <th>start</th>\n",
       "    </tr>\n",
       "  </thead>\n",
       "  <tbody>\n",
       "    <tr>\n",
       "      <th>0</th>\n",
       "      <td>1</td>\n",
       "      <td>0</td>\n",
       "      <td>0.0</td>\n",
       "      <td>0</td>\n",
       "    </tr>\n",
       "    <tr>\n",
       "      <th>1</th>\n",
       "      <td>1</td>\n",
       "      <td>29</td>\n",
       "      <td>5000.0</td>\n",
       "      <td>9:11</td>\n",
       "    </tr>\n",
       "    <tr>\n",
       "      <th>2</th>\n",
       "      <td>1</td>\n",
       "      <td>25</td>\n",
       "      <td>5000.0</td>\n",
       "      <td>10:54</td>\n",
       "    </tr>\n",
       "    <tr>\n",
       "      <th>3</th>\n",
       "      <td>1</td>\n",
       "      <td>7</td>\n",
       "      <td>10000.0</td>\n",
       "      <td>12:06</td>\n",
       "    </tr>\n",
       "    <tr>\n",
       "      <th>4</th>\n",
       "      <td>1</td>\n",
       "      <td>0</td>\n",
       "      <td>0.0</td>\n",
       "      <td>0</td>\n",
       "    </tr>\n",
       "  </tbody>\n",
       "</table>\n",
       "</div>"
      ],
      "text/plain": [
       "   truck  stop  offload  start\n",
       "0      1     0      0.0      0\n",
       "1      1    29   5000.0   9:11\n",
       "2      1    25   5000.0  10:54\n",
       "3      1     7  10000.0  12:06\n",
       "4      1     0      0.0      0"
      ]
     },
     "execution_count": 234,
     "metadata": {},
     "output_type": "execute_result"
    }
   ],
   "source": [
    "sol = pd.read_csv(\"solution/team1-part2.csv\").fillna(0)\n",
    "sol.head()"
   ]
  },
  {
   "cell_type": "code",
   "execution_count": 235,
   "metadata": {},
   "outputs": [
    {
     "name": "stdout",
     "output_type": "stream",
     "text": [
      "   truck  stop  offload  start\n",
      "0      1     0      0.0      0\n",
      "1      1    29   5000.0   9:11\n",
      "2      1    25   5000.0  10:54\n",
      "3      1     7  10000.0  12:06\n",
      "4      1     0      0.0      0\n"
     ]
    }
   ],
   "source": [
    "for i, row in sol.groupby('truck'):\n",
    "    r =row\n",
    "    print(r)\n",
    "    break"
   ]
  },
  {
   "cell_type": "code",
   "execution_count": 256,
   "metadata": {},
   "outputs": [],
   "source": [
    "t = [datetime.strptime(i, \"%H:%M\").time() for i in r['start'].tolist()[1:-1]]"
   ]
  },
  {
   "cell_type": "code",
   "execution_count": 257,
   "metadata": {},
   "outputs": [
    {
     "data": {
      "text/plain": [
       "datetime.time(9, 11)"
      ]
     },
     "execution_count": 257,
     "metadata": {},
     "output_type": "execute_result"
    }
   ],
   "source": [
    "t[0]"
   ]
  },
  {
   "cell_type": "code",
   "execution_count": 259,
   "metadata": {},
   "outputs": [],
   "source": [
    "t0 = datetime(\n",
    "        2000, 1, 1,\n",
    "        hour=t[0].hour, minute=t[0].minute, second=t[0].second)"
   ]
  },
  {
   "cell_type": "code",
   "execution_count": 260,
   "metadata": {},
   "outputs": [
    {
     "data": {
      "text/plain": [
       "datetime.timedelta(seconds=39240)"
      ]
     },
     "execution_count": 260,
     "metadata": {},
     "output_type": "execute_result"
    }
   ],
   "source": [
    "td = timedelta(hours=t[1].hour, minutes=t[1].minute)\n",
    "td"
   ]
  },
  {
   "cell_type": "code",
   "execution_count": 263,
   "metadata": {},
   "outputs": [
    {
     "data": {
      "text/plain": [
       "True"
      ]
     },
     "execution_count": 263,
     "metadata": {},
     "output_type": "execute_result"
    }
   ],
   "source": [
    "t1 = t0-td\n",
    "t1<t0"
   ]
  },
  {
   "cell_type": "code",
   "execution_count": 271,
   "metadata": {},
   "outputs": [],
   "source": [
    "def near_zero(num):\n",
    "    return abs(num) < 1e-6\n",
    "\n",
    "def dateit(s):\n",
    "    time = datetime.strptime(s, \"%H:%M\").time()\n",
    "    return datetime(2000, 1, 1, hour=time.hour, minute=time.minute, second=time.second)"
   ]
  },
  {
   "cell_type": "code",
   "execution_count": 288,
   "metadata": {},
   "outputs": [],
   "source": [
    "class Customer:\n",
    "    def __init__(self, cid, row):\n",
    "        self._id = cid\n",
    "        self._name = str(row[\"Customer ID\"])\n",
    "        self._x = float(row[\"X\"])\n",
    "        self._y = float(row[\"Y\"])\n",
    "        self._demand = float(row[\"Demand (pounds)\"])\n",
    "        time = datetime.strptime(row[\"Service-time\"], \"%H:%M\").time()\n",
    "        self._service_time = timedelta(hours=time.hour, minutes=time.minute)\n",
    "        # self._service_start = datetime.strptime(row[\"Time-window(start; h:m)\"], \"%H:%M\").time()\n",
    "        self._service_end = dateit(row[\"Time-window(end; h:m)\"])\n",
    "        self._latest_start = self._service_end - self._service_time\n",
    "        self._splitable = True if row[\"Can this demand be split\"] == \"Y\" else False\n",
    "        self._served = 0.0\n",
    "        self._visited_trucks = []\n",
    "    \n",
    "    def serve(self, load, tname):\n",
    "        self._served += load\n",
    "        self._visited_trucks.append(tname)\n",
    "        \n",
    "    def check_served(self):\n",
    "        return near_zero(self._served - self._demand)\n",
    "        \n",
    "    def reset(self):\n",
    "        self._served = 0\n",
    "        self._visited_trucks = []\n",
    "        \n",
    "    def __str__(self):\n",
    "        return (\n",
    "            f\"Customer(name={self._name}, \"\n",
    "            f\"demand={self._demand}, \"\n",
    "            f\"served={self._served}, \"\n",
    "            f\"trucks={self._visited_trucks})\"\n",
    "        )\n",
    "\n",
    "\n",
    "class Truck:\n",
    "    def __init__(self, idx, row):\n",
    "        self._id = idx\n",
    "        self._name = str(row['truck'].tolist()[0])\n",
    "        self._capacity = 20000\n",
    "        self._distance = 0\n",
    "        self._stops = [str(i) for i in row['stop'].tolist()]\n",
    "        self._offloads = row['offload'].tolist()\n",
    "        self._starts = [dateit(i) for i in row['start'].tolist() if i != 0]\n",
    "        self._desc = f\"Truck {self._name}:\\n\"\n",
    "        self._total_load = sum(self._offloads)\n",
    "        # sanity checks\n",
    "        self.check_capacity()\n",
    "        self.check_depot()\n",
    "        self.check_no_repeat_customer()\n",
    "        \n",
    "    def check_capacity(self):\n",
    "        if self._total_load > self._capacity:\n",
    "            self._desc += f\"Overloaded: {self._total_load}\\n\"\n",
    "            \n",
    "    def check_depot(self):\n",
    "        if self._stops[0] == self._stops[-1]:\n",
    "            self._depot = self._stops[0]\n",
    "        else:\n",
    "            self._desc += f\"Didn't return to depot: {self._stops[0]}-{self._stops[-1]}\\n\"\n",
    "            \n",
    "    def check_no_repeat_customer(self):\n",
    "        dup = set()\n",
    "        seen = set()\n",
    "        for c in self._stops[1:-1]:\n",
    "            if c in seen:\n",
    "                dup.add(c)\n",
    "            seen.add(c)\n",
    "        if len(dup) > 0:\n",
    "            self._desc += f\"Visited {dup} more than once!\\n\"\n",
    "        \n",
    "    def set_distance(self, distance):\n",
    "        self._distance = distance\n",
    "        \n",
    "    def __str__(self):\n",
    "        if self._desc == f\"Truck {self._name}:\\n\":\n",
    "            return \"\"\n",
    "        else:\n",
    "            return self._desc\n",
    "\n",
    "    \n",
    "class Data:\n",
    "    def __init__(self, file):\n",
    "        self.customers = []\n",
    "        self.customerID = {}\n",
    "        self.read(file)\n",
    "        \n",
    "        self.trucks = []\n",
    "        self.depot1 = [0, 0]\n",
    "        self.depot2 = [-50, 50]\n",
    "        self.depot3 = [50, -50]\n",
    "        \n",
    "        self.cost = 0\n",
    "        self.truck_rent = 200\n",
    "        self.gas_price = 3\n",
    "        \n",
    "        self.report = \"\"\n",
    "        \n",
    "    def read(self, file):\n",
    "        df = pd.read_csv(file)\n",
    "        for i, row in df.iterrows():\n",
    "            customer= Customer(i, row)\n",
    "            self.customers.append(customer)\n",
    "            self.customerID[customer._name] = customer._id\n",
    "                                                \n",
    "    def read_solution(self, solution_file, part):\n",
    "        \"\"\"\n",
    "        Calculate the total cost\n",
    "        \"\"\"\n",
    "        self.reset()\n",
    "        self.sol = pd.read_csv(solution_file).fillna(0)\n",
    "        self.report += f\"\\nPart {part}:\\n\"\n",
    "        self.verify_basic()\n",
    "        if part > 1:\n",
    "            self.verify_time()\n",
    "        self.report += f\"Total cost = {self.cost}\\n\"\n",
    "        \n",
    "    def verify_basic(self):\n",
    "        \"\"\"\n",
    "        Verify all customers demands are satisfied\n",
    "        Verify all trucks are within capacity\n",
    "        Verify total trucks number (<=20)\n",
    "        \"\"\"\n",
    "        for i, row in self.sol.groupby('truck'):\n",
    "            truck = Truck(i, row)\n",
    "            self.trucks.append(truck)\n",
    "            if truck.__str__() != \"\":\n",
    "                self.report += truck.__str__()\n",
    "        \n",
    "        if len(self.trucks) > 20:\n",
    "            self.report += f\"Too many trucks: {len(self.trucks)}\"\n",
    "    \n",
    "        for truck in self.trucks:\n",
    "            self.calc_distance(truck)\n",
    "            self.cost += self.truck_rent\n",
    "            self.cost += truck._distance * self.gas_price\n",
    "            for i, cname in enumerate(truck._stops):\n",
    "                if cname in self.customerID.keys():\n",
    "                    self.customers[self.customerID[cname]].serve(truck._offloads[i], truck._name)\n",
    "            \n",
    "        for c in self.customers:\n",
    "            if not c.check_served():\n",
    "                self.report += f\"Customer {c._name}'s demand not satisfied (unsatisfied={c._demand - c._served})\\n\"\n",
    "    \n",
    "    def verify_time(self):\n",
    "        \"\"\"\n",
    "        Verify all customers are timely served\n",
    "        Verify trucks are able to make the tour constrained by time\n",
    "        \"\"\"\n",
    "        for truck in self.trucks:\n",
    "            for i, start in enumerate(truck._starts):\n",
    "                c = self.customers[self.customerID[truck._stops[i+1]]]\n",
    "                if start > c._latest_start:\n",
    "                    self.report += f\"Truck {truck._name} served customer {c._name} too late: {start}\\n\"\n",
    "                if i > 0:\n",
    "                    last_c = self.customers[self.customerID[truck._stops[i]]]\n",
    "                    if start < truck._starts[i-1] + last_c._service_time + timedelta(minutes=self.distance_between(c._name, last_c._name)):\n",
    "                        self.report += f\"Truck {truck._name} can't make it to customer {c._name} on assumed time\\n\"                \n",
    "    \n",
    "    def reset(self):\n",
    "        for c in self.customers:\n",
    "            c.reset()\n",
    "        self.trucks = []\n",
    "        self.cost = 0\n",
    "            \n",
    "    def calc_distance(self, truck):\n",
    "        d = 0\n",
    "        for i, cid in enumerate(truck._stops):\n",
    "            if i > 0:\n",
    "                d += self.distance_between(cid, last)\n",
    "                last = cid\n",
    "            else:\n",
    "                last = cid\n",
    "        truck.set_distance(d)\n",
    "        \n",
    "    def distance_between(self, cname1, cname2):\n",
    "        x1, y1 = self.get_coord(cname1)\n",
    "        x2, y2 = self.get_coord(cname2)\n",
    "        return math.sqrt((x2 - x1)**2 + (y2 - y1)**2)\n",
    "    \n",
    "    def get_coord(self, cname):\n",
    "        if cname in self.customerID.keys():\n",
    "            c = self.customers[self.customerID[cname]]\n",
    "            return c._x, c._y\n",
    "        elif cname == '0':\n",
    "            return self.depot1\n",
    "        elif cname == '-1':\n",
    "            return self.depot2\n",
    "        elif cname == '-2':\n",
    "            return self.depot3\n",
    "        \n",
    "    def __str__(self):\n",
    "        return self.report"
   ]
  },
  {
   "cell_type": "code",
   "execution_count": 289,
   "metadata": {},
   "outputs": [
    {
     "name": "stdout",
     "output_type": "stream",
     "text": [
      "\n",
      "Part 1:\n",
      "Customer 4's demand not satisfied (unsatisfied=11500.0)\n",
      "Customer 6's demand not satisfied (unsatisfied=-11000.0)\n",
      "Customer 8's demand not satisfied (unsatisfied=7950.0)\n",
      "Customer 9's demand not satisfied (unsatisfied=-4000.0)\n",
      "Customer 10's demand not satisfied (unsatisfied=-12000.0)\n",
      "Customer 13's demand not satisfied (unsatisfied=4000.0)\n",
      "Customer 14's demand not satisfied (unsatisfied=4000.0)\n",
      "Customer 15's demand not satisfied (unsatisfied=-8000.0)\n",
      "Customer 18's demand not satisfied (unsatisfied=12000.0)\n",
      "Customer 19's demand not satisfied (unsatisfied=12000.0)\n",
      "Customer 25's demand not satisfied (unsatisfied=10250.0)\n",
      "Customer 26's demand not satisfied (unsatisfied=17800.0)\n",
      "Customer 29's demand not satisfied (unsatisfied=6000.0)\n",
      "Customer 32's demand not satisfied (unsatisfied=11000.0)\n",
      "Customer 35's demand not satisfied (unsatisfied=-12000.0)\n",
      "Customer 36's demand not satisfied (unsatisfied=-4000.0)\n",
      "Customer 38's demand not satisfied (unsatisfied=14750.0)\n",
      "Customer 40's demand not satisfied (unsatisfied=11000.0)\n",
      "Customer 42's demand not satisfied (unsatisfied=12000.0)\n",
      "Customer 43's demand not satisfied (unsatisfied=8000.0)\n",
      "Customer 47's demand not satisfied (unsatisfied=32000.0)\n",
      "Customer 49's demand not satisfied (unsatisfied=4000.0)\n",
      "Total cost = 13557.082915226238\n",
      "\n",
      "Part 2:\n",
      "Customer 2's demand not satisfied (unsatisfied=-2500.0)\n",
      "Customer 4's demand not satisfied (unsatisfied=-2750.0)\n",
      "Customer 7's demand not satisfied (unsatisfied=-9250.0)\n",
      "Customer 8's demand not satisfied (unsatisfied=5000.0)\n",
      "Customer 13's demand not satisfied (unsatisfied=1250.0)\n",
      "Customer 18's demand not satisfied (unsatisfied=8250.0)\n",
      "Customer 19's demand not satisfied (unsatisfied=9750.0)\n",
      "Customer 20's demand not satisfied (unsatisfied=-5000.0)\n",
      "Customer 25's demand not satisfied (unsatisfied=9250.0)\n",
      "Customer 26's demand not satisfied (unsatisfied=20000.0)\n",
      "Customer 28's demand not satisfied (unsatisfied=-5000.0)\n",
      "Customer 29's demand not satisfied (unsatisfied=5000.0)\n",
      "Customer 31's demand not satisfied (unsatisfied=-5000.0)\n",
      "Customer 32's demand not satisfied (unsatisfied=10000.0)\n",
      "Customer 33's demand not satisfied (unsatisfied=-8250.0)\n",
      "Customer 36's demand not satisfied (unsatisfied=-10000.0)\n",
      "Customer 38's demand not satisfied (unsatisfied=10000.0)\n",
      "Customer 40's demand not satisfied (unsatisfied=10000.0)\n",
      "Customer 42's demand not satisfied (unsatisfied=8250.0)\n",
      "Customer 43's demand not satisfied (unsatisfied=3250.0)\n",
      "Customer 45's demand not satisfied (unsatisfied=-5000.0)\n",
      "Customer 47's demand not satisfied (unsatisfied=25000.0)\n",
      "Customer 48's demand not satisfied (unsatisfied=-5000.0)\n",
      "Customer 49's demand not satisfied (unsatisfied=2500.0)\n",
      "Truck 7 can't make it to customer 5 on assumed time\n",
      "Truck 21 can't make it to customer 49 on assumed time\n",
      "Total cost = 14110.057038178036\n",
      "\n"
     ]
    }
   ],
   "source": [
    "d = Data(\"Data.csv\")\n",
    "d.read_solution(\"solution/team1-part1.csv\", part=1)\n",
    "d.read_solution(\"solution/team1-part2.csv\", part=2)\n",
    "print(d)"
   ]
  },
  {
   "cell_type": "code",
   "execution_count": 224,
   "metadata": {},
   "outputs": [
    {
     "name": "stdout",
     "output_type": "stream",
     "text": [
      "Customer(name=4, demand=15500.0, served=4000.0, trucks=['1'])\n"
     ]
    }
   ],
   "source": [
    "print(d.customers[3])"
   ]
  },
  {
   "cell_type": "code",
   "execution_count": 164,
   "metadata": {},
   "outputs": [
    {
     "data": {
      "text/plain": [
       "[2, 3, 4]"
      ]
     },
     "execution_count": 164,
     "metadata": {},
     "output_type": "execute_result"
    }
   ],
   "source": [
    "a= [0,2,3,4,0]\n",
    "a[1:-1]"
   ]
  },
  {
   "cell_type": "code",
   "execution_count": 51,
   "metadata": {},
   "outputs": [
    {
     "data": {
      "text/plain": [
       "1"
      ]
     },
     "execution_count": 51,
     "metadata": {},
     "output_type": "execute_result"
    }
   ],
   "source": [
    "r['truck'].tolist()[0]"
   ]
  },
  {
   "cell_type": "code",
   "execution_count": 49,
   "metadata": {},
   "outputs": [
    {
     "data": {
      "text/plain": [
       "7250.0"
      ]
     },
     "execution_count": 49,
     "metadata": {},
     "output_type": "execute_result"
    }
   ],
   "source": [
    "sum(r['offload'].tolist())"
   ]
  },
  {
   "cell_type": "code",
   "execution_count": 293,
   "metadata": {},
   "outputs": [
    {
     "data": {
      "text/plain": [
       "48"
      ]
     },
     "execution_count": 293,
     "metadata": {},
     "output_type": "execute_result"
    }
   ],
   "source": [
    "108-60"
   ]
  },
  {
   "cell_type": "code",
   "execution_count": 291,
   "metadata": {},
   "outputs": [
    {
     "data": {
      "text/plain": [
       "103.05961187584592"
      ]
     },
     "execution_count": 291,
     "metadata": {},
     "output_type": "execute_result"
    }
   ],
   "source": [
    "math.sqrt((28.94 +70.26)**2 + (-48.28 + 76.22)**2)"
   ]
  },
  {
   "cell_type": "code",
   "execution_count": null,
   "metadata": {},
   "outputs": [],
   "source": []
  }
 ],
 "metadata": {
  "kernelspec": {
   "display_name": "Python 3",
   "language": "python",
   "name": "python3"
  },
  "language_info": {
   "codemirror_mode": {
    "name": "ipython",
    "version": 3
   },
   "file_extension": ".py",
   "mimetype": "text/x-python",
   "name": "python",
   "nbconvert_exporter": "python",
   "pygments_lexer": "ipython3",
   "version": "3.7.3"
  }
 },
 "nbformat": 4,
 "nbformat_minor": 2
}
